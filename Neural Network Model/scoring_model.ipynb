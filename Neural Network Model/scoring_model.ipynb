{
 "cells": [
  {
   "cell_type": "code",
   "execution_count": 10,
   "metadata": {},
   "outputs": [],
   "source": [
    "import sentence_transformers as st\n",
    "import joblib\n",
    "import torch\n",
    "import torch.nn as nn\n",
    "import torch.nn.functional as F\n",
    "import pandas as pd\n",
    "import numpy as np"
   ]
  },
  {
   "cell_type": "code",
   "execution_count": 2,
   "metadata": {},
   "outputs": [],
   "source": [
    "class GenreClassifier(nn.Module):\n",
    "    def __init__(self, input_size, output_size):\n",
    "        super(GenreClassifier, self).__init__()\n",
    "        self.fc1 = nn.Linear(input_size, 512)\n",
    "        self.fc2 = nn.Linear(512, 256)\n",
    "        self.fc3 = nn.Linear(256, output_size)\n",
    "    \n",
    "    def forward(self, x):\n",
    "        x = F.relu(self.fc1(x))\n",
    "        x = F.relu(self.fc2(x))\n",
    "        x = torch.sigmoid(self.fc3(x))\n",
    "        return x"
   ]
  },
  {
   "cell_type": "code",
   "execution_count": 3,
   "metadata": {},
   "outputs": [],
   "source": [
    "def create_encodings(summary):\n",
    "\n",
    "    model = st.SentenceTransformer(\"all-MiniLM-L6-v2\")\n",
    "    print(\"Creating Embeddings.\")\n",
    "    encoding = model.encode(summary, batch_size=64, show_progress_bar=True, convert_to_tensor=True)\n",
    "    return encoding"
   ]
  },
  {
   "cell_type": "code",
   "execution_count": 4,
   "metadata": {},
   "outputs": [],
   "source": [
    "def load_model(model_path='scoring_model_1.pth', input_size=384, output_size=10, device=None):\n",
    "    if device is None:\n",
    "        device = torch.device('cuda' if torch.cuda.is_available() else 'cpu')\n",
    "    model = GenreClassifier(input_size, output_size)\n",
    "    checkpoint = torch.load(model_path, map_location=device)\n",
    "    model.load_state_dict(checkpoint['model_state_dict'])\n",
    "    model.eval()\n",
    "    return model"
   ]
  },
  {
   "cell_type": "code",
   "execution_count": 14,
   "metadata": {},
   "outputs": [],
   "source": [
    "def load_genres(genre_file='genres.joblib'):\n",
    "    genre_file = joblib.load(genre_file)\n",
    "    genre_labels = genre_file.columns.tolist()\n",
    "    return genre_labels\n",
    "\n",
    "def predict_genres(encoding, model):\n",
    "    encoding = encoding.unsqueeze(0)  # Add batch dimension\n",
    "    with torch.no_grad():\n",
    "        scores = model(encoding)\n",
    "    return scores.squeeze(0)  # Remove batch dimension\n",
    "\n",
    "def map_predictions_to_genres(scores, genre_names):\n",
    "    scores_np = np.array([score.item() for score in scores])\n",
    "    # Perform min-max scaling\n",
    "    min_score = scores_np.min()\n",
    "    max_score = scores_np.max()\n",
    "    scaled_scores = 10 * (scores_np - min_score) / (max_score - min_score)\n",
    "\n",
    "    # Create a dictionary with genre scores\n",
    "    genre_scores = {genre: scaled_scores[i] for i, genre in enumerate(genre_names)}\n",
    "\n",
    "    # Sort genres by scores in descending order\n",
    "    sorted_genre_scores = {k: v for k, v in sorted(genre_scores.items(), key=lambda item: item[1], reverse=True)}\n",
    "    return sorted_genre_scores"
   ]
  },
  {
   "cell_type": "code",
   "execution_count": 21,
   "metadata": {},
   "outputs": [],
   "source": [
    "def main():\n",
    "    results = {\n",
    "        'genre_scores': []\n",
    "    }\n",
    "    genre_names = load_genres('genres.joblib')\n",
    "    num_genres = len(genre_names)  # Get the number of genres\n",
    "    model = load_model('scoring_model_1.pth', input_size=384, output_size=num_genres)\n",
    "    df = pd.read_csv('../Approach/test_data.csv')\n",
    "    for index, row in df.iterrows():\n",
    "        summary = row['Storyline']\n",
    "        encoding = create_encodings(summary)\n",
    "        scores = predict_genres(encoding, model)\n",
    "        genre_scores = map_predictions_to_genres(scores, genre_names)\n",
    "        results['genre_scores'].append(genre_scores)\n",
    "    results_df=pd.DataFrame(results)\n",
    "    results_df = pd.concat([df,results_df],axis=1,ignore_index=False)\n",
    "    return results_df"
   ]
  },
  {
   "cell_type": "code",
   "execution_count": 22,
   "metadata": {},
   "outputs": [
    {
     "name": "stdout",
     "output_type": "stream",
     "text": [
      "Creating Embeddings.\n"
     ]
    },
    {
     "name": "stderr",
     "output_type": "stream",
     "text": [
      "Batches: 100%|██████████| 1/1 [00:00<00:00, 18.47it/s]\n"
     ]
    },
    {
     "name": "stdout",
     "output_type": "stream",
     "text": [
      "Creating Embeddings.\n"
     ]
    },
    {
     "name": "stderr",
     "output_type": "stream",
     "text": [
      "Batches: 100%|██████████| 1/1 [00:00<00:00, 14.90it/s]\n"
     ]
    },
    {
     "name": "stdout",
     "output_type": "stream",
     "text": [
      "Creating Embeddings.\n"
     ]
    },
    {
     "name": "stderr",
     "output_type": "stream",
     "text": [
      "Batches: 100%|██████████| 1/1 [00:00<00:00, 30.85it/s]\n"
     ]
    },
    {
     "name": "stdout",
     "output_type": "stream",
     "text": [
      "Creating Embeddings.\n"
     ]
    },
    {
     "name": "stderr",
     "output_type": "stream",
     "text": [
      "Batches: 100%|██████████| 1/1 [00:00<00:00, 35.01it/s]\n"
     ]
    },
    {
     "name": "stdout",
     "output_type": "stream",
     "text": [
      "Creating Embeddings.\n"
     ]
    },
    {
     "name": "stderr",
     "output_type": "stream",
     "text": [
      "Batches: 100%|██████████| 1/1 [00:00<00:00, 34.52it/s]\n"
     ]
    },
    {
     "name": "stdout",
     "output_type": "stream",
     "text": [
      "Creating Embeddings.\n"
     ]
    },
    {
     "name": "stderr",
     "output_type": "stream",
     "text": [
      "Batches: 100%|██████████| 1/1 [00:00<00:00, 29.40it/s]\n"
     ]
    },
    {
     "name": "stdout",
     "output_type": "stream",
     "text": [
      "Creating Embeddings.\n"
     ]
    },
    {
     "name": "stderr",
     "output_type": "stream",
     "text": [
      "Batches: 100%|██████████| 1/1 [00:00<00:00, 26.84it/s]\n"
     ]
    },
    {
     "name": "stdout",
     "output_type": "stream",
     "text": [
      "Creating Embeddings.\n"
     ]
    },
    {
     "name": "stderr",
     "output_type": "stream",
     "text": [
      "Batches: 100%|██████████| 1/1 [00:00<00:00, 41.39it/s]\n"
     ]
    },
    {
     "name": "stdout",
     "output_type": "stream",
     "text": [
      "Creating Embeddings.\n"
     ]
    },
    {
     "name": "stderr",
     "output_type": "stream",
     "text": [
      "Batches: 100%|██████████| 1/1 [00:00<00:00, 24.64it/s]\n"
     ]
    },
    {
     "name": "stdout",
     "output_type": "stream",
     "text": [
      "Creating Embeddings.\n"
     ]
    },
    {
     "name": "stderr",
     "output_type": "stream",
     "text": [
      "Batches: 100%|██████████| 1/1 [00:00<00:00, 42.61it/s]\n"
     ]
    },
    {
     "name": "stdout",
     "output_type": "stream",
     "text": [
      "Creating Embeddings.\n"
     ]
    },
    {
     "name": "stderr",
     "output_type": "stream",
     "text": [
      "Batches: 100%|██████████| 1/1 [00:00<00:00, 41.47it/s]\n"
     ]
    },
    {
     "name": "stdout",
     "output_type": "stream",
     "text": [
      "Creating Embeddings.\n"
     ]
    },
    {
     "name": "stderr",
     "output_type": "stream",
     "text": [
      "Batches: 100%|██████████| 1/1 [00:00<00:00, 44.58it/s]\n"
     ]
    },
    {
     "name": "stdout",
     "output_type": "stream",
     "text": [
      "Creating Embeddings.\n"
     ]
    },
    {
     "name": "stderr",
     "output_type": "stream",
     "text": [
      "Batches: 100%|██████████| 1/1 [00:00<00:00, 44.88it/s]\n"
     ]
    },
    {
     "name": "stdout",
     "output_type": "stream",
     "text": [
      "Creating Embeddings.\n"
     ]
    },
    {
     "name": "stderr",
     "output_type": "stream",
     "text": [
      "Batches: 100%|██████████| 1/1 [00:00<00:00, 43.25it/s]\n"
     ]
    },
    {
     "name": "stdout",
     "output_type": "stream",
     "text": [
      "Creating Embeddings.\n"
     ]
    },
    {
     "name": "stderr",
     "output_type": "stream",
     "text": [
      "Batches: 100%|██████████| 1/1 [00:00<00:00, 15.97it/s]\n"
     ]
    },
    {
     "name": "stdout",
     "output_type": "stream",
     "text": [
      "Creating Embeddings.\n"
     ]
    },
    {
     "name": "stderr",
     "output_type": "stream",
     "text": [
      "Batches: 100%|██████████| 1/1 [00:00<00:00, 22.81it/s]\n"
     ]
    },
    {
     "name": "stdout",
     "output_type": "stream",
     "text": [
      "Creating Embeddings.\n"
     ]
    },
    {
     "name": "stderr",
     "output_type": "stream",
     "text": [
      "Batches: 100%|██████████| 1/1 [00:00<00:00, 20.41it/s]\n"
     ]
    },
    {
     "name": "stdout",
     "output_type": "stream",
     "text": [
      "Creating Embeddings.\n"
     ]
    },
    {
     "name": "stderr",
     "output_type": "stream",
     "text": [
      "Batches: 100%|██████████| 1/1 [00:00<00:00, 11.44it/s]\n"
     ]
    },
    {
     "name": "stdout",
     "output_type": "stream",
     "text": [
      "Creating Embeddings.\n"
     ]
    },
    {
     "name": "stderr",
     "output_type": "stream",
     "text": [
      "Batches: 100%|██████████| 1/1 [00:00<00:00, 12.17it/s]\n"
     ]
    },
    {
     "name": "stdout",
     "output_type": "stream",
     "text": [
      "Creating Embeddings.\n"
     ]
    },
    {
     "name": "stderr",
     "output_type": "stream",
     "text": [
      "Batches: 100%|██████████| 1/1 [00:00<00:00,  6.75it/s]\n"
     ]
    },
    {
     "name": "stdout",
     "output_type": "stream",
     "text": [
      "Creating Embeddings.\n"
     ]
    },
    {
     "name": "stderr",
     "output_type": "stream",
     "text": [
      "Batches: 100%|██████████| 1/1 [00:00<00:00,  6.94it/s]\n"
     ]
    },
    {
     "name": "stdout",
     "output_type": "stream",
     "text": [
      "Creating Embeddings.\n"
     ]
    },
    {
     "name": "stderr",
     "output_type": "stream",
     "text": [
      "Batches: 100%|██████████| 1/1 [00:00<00:00, 32.26it/s]\n"
     ]
    },
    {
     "name": "stdout",
     "output_type": "stream",
     "text": [
      "Creating Embeddings.\n"
     ]
    },
    {
     "name": "stderr",
     "output_type": "stream",
     "text": [
      "Batches: 100%|██████████| 1/1 [00:00<00:00, 30.74it/s]\n"
     ]
    },
    {
     "name": "stdout",
     "output_type": "stream",
     "text": [
      "Creating Embeddings.\n"
     ]
    },
    {
     "name": "stderr",
     "output_type": "stream",
     "text": [
      "Batches: 100%|██████████| 1/1 [00:00<00:00, 20.99it/s]\n"
     ]
    },
    {
     "name": "stdout",
     "output_type": "stream",
     "text": [
      "Creating Embeddings.\n"
     ]
    },
    {
     "name": "stderr",
     "output_type": "stream",
     "text": [
      "Batches: 100%|██████████| 1/1 [00:00<00:00, 35.02it/s]\n"
     ]
    }
   ],
   "source": [
    "df = main()"
   ]
  },
  {
   "cell_type": "code",
   "execution_count": 24,
   "metadata": {},
   "outputs": [
    {
     "data": {
      "text/html": [
       "<div>\n",
       "<style scoped>\n",
       "    .dataframe tbody tr th:only-of-type {\n",
       "        vertical-align: middle;\n",
       "    }\n",
       "\n",
       "    .dataframe tbody tr th {\n",
       "        vertical-align: top;\n",
       "    }\n",
       "\n",
       "    .dataframe thead th {\n",
       "        text-align: right;\n",
       "    }\n",
       "</style>\n",
       "<table border=\"1\" class=\"dataframe\">\n",
       "  <thead>\n",
       "    <tr style=\"text-align: right;\">\n",
       "      <th></th>\n",
       "      <th>IMBb ID</th>\n",
       "      <th>Title</th>\n",
       "      <th>Storyline</th>\n",
       "      <th>Genres</th>\n",
       "      <th>genre_scores</th>\n",
       "    </tr>\n",
       "  </thead>\n",
       "  <tbody>\n",
       "    <tr>\n",
       "      <th>0</th>\n",
       "      <td>tt0087803</td>\n",
       "      <td>1984</td>\n",
       "      <td>Based on George Orwell's novel. In a totalitar...</td>\n",
       "      <td>['Drama', 'Sci-Fi']</td>\n",
       "      <td>{'Crime': 10.0, 'Comedy': 9.99233959042741, 'D...</td>\n",
       "    </tr>\n",
       "    <tr>\n",
       "      <th>1</th>\n",
       "      <td>tt0065622</td>\n",
       "      <td>The Decameron</td>\n",
       "      <td>An adaptation of nine stories from Boccaccio's...</td>\n",
       "      <td>['Comedy', 'Drama', 'History', 'Romance']</td>\n",
       "      <td>{'Horror': 10.0, 'Comedy': 8.179475338017577, ...</td>\n",
       "    </tr>\n",
       "    <tr>\n",
       "      <th>2</th>\n",
       "      <td>tt0085694</td>\n",
       "      <td>The House on Sorority Row</td>\n",
       "      <td>After a seemingly innocent prank goes horribly...</td>\n",
       "      <td>['Horror', 'Mystery', 'Thriller']</td>\n",
       "      <td>{'Horror': 10.0, 'Comedy': 9.988764673161606, ...</td>\n",
       "    </tr>\n",
       "    <tr>\n",
       "      <th>3</th>\n",
       "      <td>tt0118528</td>\n",
       "      <td>12 Angry Men</td>\n",
       "      <td>Twelve men must decide the fate of one when on...</td>\n",
       "      <td>['Crime', 'Drama']</td>\n",
       "      <td>{'Crime': 10.0, 'Drama': 0.2522675918424312, '...</td>\n",
       "    </tr>\n",
       "    <tr>\n",
       "      <th>4</th>\n",
       "      <td>tt0059125</td>\n",
       "      <td>Dr. Terror's House of Horrors</td>\n",
       "      <td>Aboard a British train, mysterious fortune tel...</td>\n",
       "      <td>['Horror']</td>\n",
       "      <td>{'Horror': 10.0, 'Fantasy': 8.275509304954872,...</td>\n",
       "    </tr>\n",
       "    <tr>\n",
       "      <th>5</th>\n",
       "      <td>tt0117191</td>\n",
       "      <td>No One Would Tell</td>\n",
       "      <td>A shy high school student's seemingly perfect ...</td>\n",
       "      <td>['Biography', 'Crime', 'Drama', 'Sport', 'Thri...</td>\n",
       "      <td>{'Mystery': 10.0, 'Thriller': 0.68976225761352...</td>\n",
       "    </tr>\n",
       "    <tr>\n",
       "      <th>6</th>\n",
       "      <td>tt0066518</td>\n",
       "      <td>The Vampire Lovers</td>\n",
       "      <td>Seductive vampire Carmilla Karnstein and her f...</td>\n",
       "      <td>['Horror']</td>\n",
       "      <td>{'Horror': 10.0, 'Fantasy': 6.712591542489078,...</td>\n",
       "    </tr>\n",
       "    <tr>\n",
       "      <th>7</th>\n",
       "      <td>tt0071502</td>\n",
       "      <td>Arabian Nights</td>\n",
       "      <td>In ancient Arabia, a beautiful slave girl choo...</td>\n",
       "      <td>['Comedy', 'Drama', 'Fantasy', 'History', 'Rom...</td>\n",
       "      <td>{'Adventure': 10.0, 'Drama': 2.049190720151407...</td>\n",
       "    </tr>\n",
       "    <tr>\n",
       "      <th>8</th>\n",
       "      <td>tt0080855</td>\n",
       "      <td>Heaven's Gate</td>\n",
       "      <td>During the Johnson County War in 1890 Wyoming,...</td>\n",
       "      <td>['Adventure', 'Drama', 'Western']</td>\n",
       "      <td>{'Western': 10.0, 'Thriller': 0.01402798807248...</td>\n",
       "    </tr>\n",
       "    <tr>\n",
       "      <th>9</th>\n",
       "      <td>tt0065777</td>\n",
       "      <td>The Garden of the Finzi-Continis</td>\n",
       "      <td>The story of the Finzi-Continis, a noble famil...</td>\n",
       "      <td>['Drama', 'History', 'War']</td>\n",
       "      <td>{'History': 10.0, 'War': 9.99963641166687, 'Dr...</td>\n",
       "    </tr>\n",
       "    <tr>\n",
       "      <th>10</th>\n",
       "      <td>tt0058777</td>\n",
       "      <td>Zulu</td>\n",
       "      <td>Outnumbered British soldiers do battle with Zu...</td>\n",
       "      <td>['Drama', 'History', 'War']</td>\n",
       "      <td>{'Documentary': 10.0, 'Adventure': 2.607382959...</td>\n",
       "    </tr>\n",
       "    <tr>\n",
       "      <th>11</th>\n",
       "      <td>tt0115759</td>\n",
       "      <td>Broken Arrow</td>\n",
       "      <td>Terrorists steal nuclear warheads from the U.S...</td>\n",
       "      <td>['Action', 'Adventure', 'Thriller']</td>\n",
       "      <td>{'Action': 10.0, 'Sci-Fi': 9.591691066174134, ...</td>\n",
       "    </tr>\n",
       "    <tr>\n",
       "      <th>12</th>\n",
       "      <td>tt0134983</td>\n",
       "      <td>Supernova</td>\n",
       "      <td>A deep space rescue and recovery spaceship wit...</td>\n",
       "      <td>['Horror', 'Sci-Fi', 'Thriller']</td>\n",
       "      <td>{'Adventure': 10.0, 'Action': 8.82812442541457...</td>\n",
       "    </tr>\n",
       "    <tr>\n",
       "      <th>13</th>\n",
       "      <td>tt0105643</td>\n",
       "      <td>Troll 2</td>\n",
       "      <td>A vacationing family discovers that the entire...</td>\n",
       "      <td>['Comedy', 'Fantasy', 'Horror']</td>\n",
       "      <td>{'Horror': 10.0, 'Sci-Fi': 0.5114553360885782,...</td>\n",
       "    </tr>\n",
       "    <tr>\n",
       "      <th>14</th>\n",
       "      <td>tt0046359</td>\n",
       "      <td>Stalag 17</td>\n",
       "      <td>After two Americans are killed while escaping ...</td>\n",
       "      <td>['Comedy', 'Drama', 'War']</td>\n",
       "      <td>{'Thriller': 10.0, 'War': 5.13578227590023, 'H...</td>\n",
       "    </tr>\n",
       "    <tr>\n",
       "      <th>15</th>\n",
       "      <td>tt0064155</td>\n",
       "      <td>Charro!</td>\n",
       "      <td>Vince Hackett's gang steals a prized victory c...</td>\n",
       "      <td>['Western', 'Add content advisory']</td>\n",
       "      <td>{'Action': 10.0, 'Western': 8.429235211437195,...</td>\n",
       "    </tr>\n",
       "    <tr>\n",
       "      <th>16</th>\n",
       "      <td>tt0073705</td>\n",
       "      <td>Shivers</td>\n",
       "      <td>The residents of a suburban high-rise apartmen...</td>\n",
       "      <td>['Horror', 'Sci-Fi']</td>\n",
       "      <td>{'Sci-Fi': 10.0, 'Horror': 9.999997615814209, ...</td>\n",
       "    </tr>\n",
       "    <tr>\n",
       "      <th>17</th>\n",
       "      <td>tt0040724</td>\n",
       "      <td>Red River</td>\n",
       "      <td>Dunson leads a cattle drive, the culmination o...</td>\n",
       "      <td>['Drama', 'Western']</td>\n",
       "      <td>{'Drama': 10.0, 'Action': 4.87175232101843, 'W...</td>\n",
       "    </tr>\n",
       "    <tr>\n",
       "      <th>18</th>\n",
       "      <td>tt3375370</td>\n",
       "      <td>The Gunfighter</td>\n",
       "      <td>In the tradition of classic westerns, a narrat...</td>\n",
       "      <td>['Short', 'Comedy', 'Western']</td>\n",
       "      <td>{'Western': 10.0, 'Drama': 1.7626363039016724,...</td>\n",
       "    </tr>\n",
       "    <tr>\n",
       "      <th>19</th>\n",
       "      <td>tt0061955</td>\n",
       "      <td>The Bride Wore Black</td>\n",
       "      <td>Julie Kohler is prevented from suicide by her ...</td>\n",
       "      <td>['Crime', 'Drama', 'Mystery']</td>\n",
       "      <td>{'Drama': 10.0, 'Thriller': 5.565762924501604,...</td>\n",
       "    </tr>\n",
       "    <tr>\n",
       "      <th>20</th>\n",
       "      <td>tt0368222</td>\n",
       "      <td>Romance &amp; Cigarettes</td>\n",
       "      <td>This down-and-dirty musical set in the world o...</td>\n",
       "      <td>['Comedy', 'Musical', 'Romance']</td>\n",
       "      <td>{'Drama': 10.0, 'Comedy': 9.83986068518432, 'T...</td>\n",
       "    </tr>\n",
       "    <tr>\n",
       "      <th>21</th>\n",
       "      <td>tt0052724</td>\n",
       "      <td>Day of the Outlaw</td>\n",
       "      <td>Blaise Starrett is a rancher at odds with home...</td>\n",
       "      <td>['Drama', 'Western', 'Add content advisory']</td>\n",
       "      <td>{'Western': 10.0, 'Drama': 9.506486720845757, ...</td>\n",
       "    </tr>\n",
       "    <tr>\n",
       "      <th>22</th>\n",
       "      <td>tt0077288</td>\n",
       "      <td>La Cage aux Folles</td>\n",
       "      <td>The manager of a Saint-Tropez nightclub featur...</td>\n",
       "      <td>['Comedy']</td>\n",
       "      <td>{'Comedy': 10.0, 'Drama': 9.366543074465294, '...</td>\n",
       "    </tr>\n",
       "    <tr>\n",
       "      <th>23</th>\n",
       "      <td>tt0058333</td>\n",
       "      <td>The Masque of the Red Death</td>\n",
       "      <td>A European prince terrorizes the local peasant...</td>\n",
       "      <td>['Drama', 'Horror']</td>\n",
       "      <td>{'Drama': 10.0, 'Horror': 9.879721812770791, '...</td>\n",
       "    </tr>\n",
       "    <tr>\n",
       "      <th>24</th>\n",
       "      <td>tt0082527</td>\n",
       "      <td>X-Ray</td>\n",
       "      <td>While receiving a routine check-up, a woman fi...</td>\n",
       "      <td>['Horror', 'Thriller']</td>\n",
       "      <td>{'Horror': 10.0, 'Thriller': 9.92068451668509,...</td>\n",
       "    </tr>\n",
       "  </tbody>\n",
       "</table>\n",
       "</div>"
      ],
      "text/plain": [
       "      IMBb ID                             Title  \\\n",
       "0   tt0087803                              1984   \n",
       "1   tt0065622                     The Decameron   \n",
       "2   tt0085694         The House on Sorority Row   \n",
       "3   tt0118528                      12 Angry Men   \n",
       "4   tt0059125     Dr. Terror's House of Horrors   \n",
       "5   tt0117191                 No One Would Tell   \n",
       "6   tt0066518                The Vampire Lovers   \n",
       "7   tt0071502                    Arabian Nights   \n",
       "8   tt0080855                     Heaven's Gate   \n",
       "9   tt0065777  The Garden of the Finzi-Continis   \n",
       "10  tt0058777                              Zulu   \n",
       "11  tt0115759                      Broken Arrow   \n",
       "12  tt0134983                         Supernova   \n",
       "13  tt0105643                           Troll 2   \n",
       "14  tt0046359                         Stalag 17   \n",
       "15  tt0064155                           Charro!   \n",
       "16  tt0073705                           Shivers   \n",
       "17  tt0040724                         Red River   \n",
       "18  tt3375370                    The Gunfighter   \n",
       "19  tt0061955              The Bride Wore Black   \n",
       "20  tt0368222              Romance & Cigarettes   \n",
       "21  tt0052724                 Day of the Outlaw   \n",
       "22  tt0077288                La Cage aux Folles   \n",
       "23  tt0058333       The Masque of the Red Death   \n",
       "24  tt0082527                             X-Ray   \n",
       "\n",
       "                                            Storyline  \\\n",
       "0   Based on George Orwell's novel. In a totalitar...   \n",
       "1   An adaptation of nine stories from Boccaccio's...   \n",
       "2   After a seemingly innocent prank goes horribly...   \n",
       "3   Twelve men must decide the fate of one when on...   \n",
       "4   Aboard a British train, mysterious fortune tel...   \n",
       "5   A shy high school student's seemingly perfect ...   \n",
       "6   Seductive vampire Carmilla Karnstein and her f...   \n",
       "7   In ancient Arabia, a beautiful slave girl choo...   \n",
       "8   During the Johnson County War in 1890 Wyoming,...   \n",
       "9   The story of the Finzi-Continis, a noble famil...   \n",
       "10  Outnumbered British soldiers do battle with Zu...   \n",
       "11  Terrorists steal nuclear warheads from the U.S...   \n",
       "12  A deep space rescue and recovery spaceship wit...   \n",
       "13  A vacationing family discovers that the entire...   \n",
       "14  After two Americans are killed while escaping ...   \n",
       "15  Vince Hackett's gang steals a prized victory c...   \n",
       "16  The residents of a suburban high-rise apartmen...   \n",
       "17  Dunson leads a cattle drive, the culmination o...   \n",
       "18  In the tradition of classic westerns, a narrat...   \n",
       "19  Julie Kohler is prevented from suicide by her ...   \n",
       "20  This down-and-dirty musical set in the world o...   \n",
       "21  Blaise Starrett is a rancher at odds with home...   \n",
       "22  The manager of a Saint-Tropez nightclub featur...   \n",
       "23  A European prince terrorizes the local peasant...   \n",
       "24  While receiving a routine check-up, a woman fi...   \n",
       "\n",
       "                                               Genres  \\\n",
       "0                                 ['Drama', 'Sci-Fi']   \n",
       "1           ['Comedy', 'Drama', 'History', 'Romance']   \n",
       "2                   ['Horror', 'Mystery', 'Thriller']   \n",
       "3                                  ['Crime', 'Drama']   \n",
       "4                                          ['Horror']   \n",
       "5   ['Biography', 'Crime', 'Drama', 'Sport', 'Thri...   \n",
       "6                                          ['Horror']   \n",
       "7   ['Comedy', 'Drama', 'Fantasy', 'History', 'Rom...   \n",
       "8                   ['Adventure', 'Drama', 'Western']   \n",
       "9                         ['Drama', 'History', 'War']   \n",
       "10                        ['Drama', 'History', 'War']   \n",
       "11                ['Action', 'Adventure', 'Thriller']   \n",
       "12                   ['Horror', 'Sci-Fi', 'Thriller']   \n",
       "13                    ['Comedy', 'Fantasy', 'Horror']   \n",
       "14                         ['Comedy', 'Drama', 'War']   \n",
       "15                ['Western', 'Add content advisory']   \n",
       "16                               ['Horror', 'Sci-Fi']   \n",
       "17                               ['Drama', 'Western']   \n",
       "18                     ['Short', 'Comedy', 'Western']   \n",
       "19                      ['Crime', 'Drama', 'Mystery']   \n",
       "20                   ['Comedy', 'Musical', 'Romance']   \n",
       "21       ['Drama', 'Western', 'Add content advisory']   \n",
       "22                                         ['Comedy']   \n",
       "23                                ['Drama', 'Horror']   \n",
       "24                             ['Horror', 'Thriller']   \n",
       "\n",
       "                                         genre_scores  \n",
       "0   {'Crime': 10.0, 'Comedy': 9.99233959042741, 'D...  \n",
       "1   {'Horror': 10.0, 'Comedy': 8.179475338017577, ...  \n",
       "2   {'Horror': 10.0, 'Comedy': 9.988764673161606, ...  \n",
       "3   {'Crime': 10.0, 'Drama': 0.2522675918424312, '...  \n",
       "4   {'Horror': 10.0, 'Fantasy': 8.275509304954872,...  \n",
       "5   {'Mystery': 10.0, 'Thriller': 0.68976225761352...  \n",
       "6   {'Horror': 10.0, 'Fantasy': 6.712591542489078,...  \n",
       "7   {'Adventure': 10.0, 'Drama': 2.049190720151407...  \n",
       "8   {'Western': 10.0, 'Thriller': 0.01402798807248...  \n",
       "9   {'History': 10.0, 'War': 9.99963641166687, 'Dr...  \n",
       "10  {'Documentary': 10.0, 'Adventure': 2.607382959...  \n",
       "11  {'Action': 10.0, 'Sci-Fi': 9.591691066174134, ...  \n",
       "12  {'Adventure': 10.0, 'Action': 8.82812442541457...  \n",
       "13  {'Horror': 10.0, 'Sci-Fi': 0.5114553360885782,...  \n",
       "14  {'Thriller': 10.0, 'War': 5.13578227590023, 'H...  \n",
       "15  {'Action': 10.0, 'Western': 8.429235211437195,...  \n",
       "16  {'Sci-Fi': 10.0, 'Horror': 9.999997615814209, ...  \n",
       "17  {'Drama': 10.0, 'Action': 4.87175232101843, 'W...  \n",
       "18  {'Western': 10.0, 'Drama': 1.7626363039016724,...  \n",
       "19  {'Drama': 10.0, 'Thriller': 5.565762924501604,...  \n",
       "20  {'Drama': 10.0, 'Comedy': 9.83986068518432, 'T...  \n",
       "21  {'Western': 10.0, 'Drama': 9.506486720845757, ...  \n",
       "22  {'Comedy': 10.0, 'Drama': 9.366543074465294, '...  \n",
       "23  {'Drama': 10.0, 'Horror': 9.879721812770791, '...  \n",
       "24  {'Horror': 10.0, 'Thriller': 9.92068451668509,...  "
      ]
     },
     "execution_count": 24,
     "metadata": {},
     "output_type": "execute_result"
    }
   ],
   "source": [
    "df = df.drop(['Unnamed: 0'],axis=1)\n",
    "df"
   ]
  },
  {
   "cell_type": "code",
   "execution_count": 18,
   "metadata": {},
   "outputs": [
    {
     "data": {
      "text/plain": [
       "{'Crime': 10.0,\n",
       " 'Comedy': 9.99233959042741,\n",
       " 'Drama': 9.6956188418653,\n",
       " 'Documentary': 0.0036200104224044867,\n",
       " 'Thriller': 0.0006380582842504156,\n",
       " 'Family': 0.00037874874249212967,\n",
       " 'Biography': 0.00032828064078363104,\n",
       " 'Action': 5.758696378939954e-06,\n",
       " 'Mystery': 5.023984038224881e-06,\n",
       " 'Short': 7.426509992949147e-07,\n",
       " 'Sci-Fi': 4.855713597908767e-07,\n",
       " 'Film-Noir': 6.958987940524391e-08,\n",
       " 'Western': 5.481177260771889e-08,\n",
       " 'Adult': 1.2666613466178219e-08,\n",
       " 'None': 5.770884720321583e-09,\n",
       " 'Sport': 2.190318250994392e-09,\n",
       " 'Fantasy': 1.3781109329167173e-09,\n",
       " 'Horror': 4.739976748852435e-10,\n",
       " 'Adventure': 2.815787641378097e-10,\n",
       " 'News': 8.963322108200049e-12,\n",
       " 'Musical': 3.0669410991333093e-13,\n",
       " 'Music': 2.1382277687069953e-13,\n",
       " 'History': 3.563241876835778e-14,\n",
       " 'War': 1.743020583854723e-17,\n",
       " 'Animation': 0.0}"
      ]
     },
     "execution_count": 18,
     "metadata": {},
     "output_type": "execute_result"
    }
   ],
   "source": [
    "df['genre_scores'][0]"
   ]
  },
  {
   "cell_type": "code",
   "execution_count": 25,
   "metadata": {},
   "outputs": [],
   "source": [
    "df.to_csv('../Approach/test_data_predictions.csv')"
   ]
  },
  {
   "cell_type": "code",
   "execution_count": null,
   "metadata": {},
   "outputs": [],
   "source": []
  }
 ],
 "metadata": {
  "kernelspec": {
   "display_name": "Python 3",
   "language": "python",
   "name": "python3"
  },
  "language_info": {
   "codemirror_mode": {
    "name": "ipython",
    "version": 3
   },
   "file_extension": ".py",
   "mimetype": "text/x-python",
   "name": "python",
   "nbconvert_exporter": "python",
   "pygments_lexer": "ipython3",
   "version": "3.12.2"
  }
 },
 "nbformat": 4,
 "nbformat_minor": 2
}
