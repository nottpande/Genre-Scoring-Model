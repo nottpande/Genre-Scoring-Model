{
 "cells": [
  {
   "cell_type": "code",
   "execution_count": 1,
   "metadata": {},
   "outputs": [
    {
     "name": "stderr",
     "output_type": "stream",
     "text": [
      "c:\\Python312\\Lib\\site-packages\\sentence_transformers\\cross_encoder\\CrossEncoder.py:11: TqdmWarning: IProgress not found. Please update jupyter and ipywidgets. See https://ipywidgets.readthedocs.io/en/stable/user_install.html\n",
      "  from tqdm.autonotebook import tqdm, trange\n"
     ]
    }
   ],
   "source": [
    "import sentence_transformers as st\n",
    "import pandas as pd\n",
    "import numpy as np\n",
    "import joblib"
   ]
  },
  {
   "cell_type": "code",
   "execution_count": 2,
   "metadata": {},
   "outputs": [
    {
     "name": "stdout",
     "output_type": "stream",
     "text": [
      "Model loaded successfully\n"
     ]
    }
   ],
   "source": [
    "try:\n",
    "    model = st.SentenceTransformer(\"all-MiniLM-L6-v2\")\n",
    "    print(\"Model loaded successfully\")\n",
    "except Exception as e:\n",
    "    print(\"Model not loaded\")\n",
    "    print(f\"Error faced : {e}\")"
   ]
  },
  {
   "cell_type": "code",
   "execution_count": 3,
   "metadata": {},
   "outputs": [
    {
     "data": {
      "text/html": [
       "<div>\n",
       "<style scoped>\n",
       "    .dataframe tbody tr th:only-of-type {\n",
       "        vertical-align: middle;\n",
       "    }\n",
       "\n",
       "    .dataframe tbody tr th {\n",
       "        vertical-align: top;\n",
       "    }\n",
       "\n",
       "    .dataframe thead th {\n",
       "        text-align: right;\n",
       "    }\n",
       "</style>\n",
       "<table border=\"1\" class=\"dataframe\">\n",
       "  <thead>\n",
       "    <tr style=\"text-align: right;\">\n",
       "      <th></th>\n",
       "      <th>Genre</th>\n",
       "      <th>Description</th>\n",
       "    </tr>\n",
       "  </thead>\n",
       "  <tbody>\n",
       "    <tr>\n",
       "      <th>0</th>\n",
       "      <td>Action</td>\n",
       "      <td>Action films are a genre characterized by high...</td>\n",
       "    </tr>\n",
       "    <tr>\n",
       "      <th>1</th>\n",
       "      <td>Adult</td>\n",
       "      <td>Adult films, also known as erotica or adult-or...</td>\n",
       "    </tr>\n",
       "    <tr>\n",
       "      <th>2</th>\n",
       "      <td>Adventure</td>\n",
       "      <td>Adventure films are a genre characterized by t...</td>\n",
       "    </tr>\n",
       "    <tr>\n",
       "      <th>3</th>\n",
       "      <td>Animation</td>\n",
       "      <td>Animation films are a genre defined by their u...</td>\n",
       "    </tr>\n",
       "    <tr>\n",
       "      <th>4</th>\n",
       "      <td>Biography</td>\n",
       "      <td>Biography films are a genre that focuses on de...</td>\n",
       "    </tr>\n",
       "    <tr>\n",
       "      <th>5</th>\n",
       "      <td>Comedy</td>\n",
       "      <td>Comedy films are a genre that aims to entertai...</td>\n",
       "    </tr>\n",
       "    <tr>\n",
       "      <th>6</th>\n",
       "      <td>Crime</td>\n",
       "      <td>Crime films are a genre that delves into the w...</td>\n",
       "    </tr>\n",
       "    <tr>\n",
       "      <th>7</th>\n",
       "      <td>Documentary</td>\n",
       "      <td>Documentary films are a genre that aims to edu...</td>\n",
       "    </tr>\n",
       "    <tr>\n",
       "      <th>8</th>\n",
       "      <td>Drama</td>\n",
       "      <td>Drama* films are a genre that explores complex...</td>\n",
       "    </tr>\n",
       "    <tr>\n",
       "      <th>9</th>\n",
       "      <td>Family</td>\n",
       "      <td>Family films are a genre that focuses on theme...</td>\n",
       "    </tr>\n",
       "    <tr>\n",
       "      <th>10</th>\n",
       "      <td>Fantasy</td>\n",
       "      <td>Fantasy films transport audiences to magical a...</td>\n",
       "    </tr>\n",
       "    <tr>\n",
       "      <th>11</th>\n",
       "      <td>Film-Noir</td>\n",
       "      <td>Film-Noir is a genre that emerged in the early...</td>\n",
       "    </tr>\n",
       "    <tr>\n",
       "      <th>12</th>\n",
       "      <td>History</td>\n",
       "      <td>History films focus on past events and the sig...</td>\n",
       "    </tr>\n",
       "    <tr>\n",
       "      <th>13</th>\n",
       "      <td>Horror</td>\n",
       "      <td>Horror films are designed to evoke fear, shock...</td>\n",
       "    </tr>\n",
       "    <tr>\n",
       "      <th>14</th>\n",
       "      <td>Music</td>\n",
       "      <td>Music films center around the world of music, ...</td>\n",
       "    </tr>\n",
       "    <tr>\n",
       "      <th>15</th>\n",
       "      <td>Musical</td>\n",
       "      <td>Musical films are characterized by their integ...</td>\n",
       "    </tr>\n",
       "    <tr>\n",
       "      <th>16</th>\n",
       "      <td>Mystery</td>\n",
       "      <td>Mystery films center around the unraveling of ...</td>\n",
       "    </tr>\n",
       "    <tr>\n",
       "      <th>17</th>\n",
       "      <td>News</td>\n",
       "      <td>News films are a genre focused on presenting c...</td>\n",
       "    </tr>\n",
       "    <tr>\n",
       "      <th>18</th>\n",
       "      <td>Sci-Fi</td>\n",
       "      <td>Sci-Fi (Science Fiction) films transport audie...</td>\n",
       "    </tr>\n",
       "    <tr>\n",
       "      <th>19</th>\n",
       "      <td>Short</td>\n",
       "      <td>Short films are a genre characterized by their...</td>\n",
       "    </tr>\n",
       "    <tr>\n",
       "      <th>20</th>\n",
       "      <td>Sport</td>\n",
       "      <td>Sport films are a genre that revolves around a...</td>\n",
       "    </tr>\n",
       "    <tr>\n",
       "      <th>21</th>\n",
       "      <td>Thriller</td>\n",
       "      <td>Thriller* films are a genre that focuses on su...</td>\n",
       "    </tr>\n",
       "    <tr>\n",
       "      <th>22</th>\n",
       "      <td>War</td>\n",
       "      <td>War films are a genre that explores the experi...</td>\n",
       "    </tr>\n",
       "    <tr>\n",
       "      <th>23</th>\n",
       "      <td>Western</td>\n",
       "      <td>Western films are a genre that romanticizes an...</td>\n",
       "    </tr>\n",
       "  </tbody>\n",
       "</table>\n",
       "</div>"
      ],
      "text/plain": [
       "          Genre                                        Description\n",
       "0        Action  Action films are a genre characterized by high...\n",
       "1         Adult  Adult films, also known as erotica or adult-or...\n",
       "2     Adventure  Adventure films are a genre characterized by t...\n",
       "3     Animation  Animation films are a genre defined by their u...\n",
       "4     Biography  Biography films are a genre that focuses on de...\n",
       "5        Comedy  Comedy films are a genre that aims to entertai...\n",
       "6         Crime  Crime films are a genre that delves into the w...\n",
       "7   Documentary  Documentary films are a genre that aims to edu...\n",
       "8         Drama  Drama* films are a genre that explores complex...\n",
       "9        Family  Family films are a genre that focuses on theme...\n",
       "10      Fantasy  Fantasy films transport audiences to magical a...\n",
       "11    Film-Noir  Film-Noir is a genre that emerged in the early...\n",
       "12      History  History films focus on past events and the sig...\n",
       "13       Horror  Horror films are designed to evoke fear, shock...\n",
       "14        Music  Music films center around the world of music, ...\n",
       "15      Musical  Musical films are characterized by their integ...\n",
       "16      Mystery  Mystery films center around the unraveling of ...\n",
       "17         News  News films are a genre focused on presenting c...\n",
       "18       Sci-Fi  Sci-Fi (Science Fiction) films transport audie...\n",
       "19        Short  Short films are a genre characterized by their...\n",
       "20        Sport  Sport films are a genre that revolves around a...\n",
       "21     Thriller  Thriller* films are a genre that focuses on su...\n",
       "22          War  War films are a genre that explores the experi...\n",
       "23      Western  Western films are a genre that romanticizes an..."
      ]
     },
     "execution_count": 3,
     "metadata": {},
     "output_type": "execute_result"
    }
   ],
   "source": [
    "df = pd.read_csv('../Data/genre_descriptions.csv')\n",
    "df"
   ]
  },
  {
   "cell_type": "code",
   "execution_count": 4,
   "metadata": {},
   "outputs": [
    {
     "name": "stderr",
     "output_type": "stream",
     "text": [
      "Batches: 100%|██████████| 1/1 [00:00<00:00,  1.18it/s]\n",
      "Batches: 100%|██████████| 1/1 [00:00<00:00, 14.29it/s]\n",
      "Batches: 100%|██████████| 1/1 [00:00<00:00, 13.64it/s]\n",
      "Batches: 100%|██████████| 1/1 [00:00<00:00, 13.48it/s]\n",
      "Batches: 100%|██████████| 1/1 [00:00<00:00, 13.80it/s]\n",
      "Batches: 100%|██████████| 1/1 [00:00<00:00, 13.89it/s]\n",
      "Batches: 100%|██████████| 1/1 [00:00<00:00, 13.48it/s]\n",
      "Batches: 100%|██████████| 1/1 [00:00<00:00, 14.45it/s]\n",
      "Batches: 100%|██████████| 1/1 [00:00<00:00, 14.18it/s]\n",
      "Batches: 100%|██████████| 1/1 [00:00<00:00, 15.09it/s]\n",
      "Batches: 100%|██████████| 1/1 [00:00<00:00, 15.64it/s]\n",
      "Batches: 100%|██████████| 1/1 [00:00<00:00,  9.80it/s]\n",
      "Batches: 100%|██████████| 1/1 [00:00<00:00, 15.62it/s]\n",
      "Batches: 100%|██████████| 1/1 [00:00<00:00, 15.00it/s]\n",
      "Batches: 100%|██████████| 1/1 [00:00<00:00, 15.15it/s]\n",
      "Batches: 100%|██████████| 1/1 [00:00<00:00, 14.70it/s]\n",
      "Batches: 100%|██████████| 1/1 [00:00<00:00, 15.15it/s]\n",
      "Batches: 100%|██████████| 1/1 [00:00<00:00, 15.62it/s]\n",
      "Batches: 100%|██████████| 1/1 [00:00<00:00, 15.62it/s]\n",
      "Batches: 100%|██████████| 1/1 [00:00<00:00, 15.38it/s]\n",
      "Batches: 100%|██████████| 1/1 [00:00<00:00, 15.56it/s]\n",
      "Batches: 100%|██████████| 1/1 [00:00<00:00, 15.38it/s]\n",
      "Batches: 100%|██████████| 1/1 [00:00<00:00, 15.12it/s]\n",
      "Batches: 100%|██████████| 1/1 [00:00<00:00, 15.38it/s]"
     ]
    },
    {
     "name": "stdout",
     "output_type": "stream",
     "text": [
      "Encoded all the genre descriptions\n"
     ]
    },
    {
     "name": "stderr",
     "output_type": "stream",
     "text": [
      "\n"
     ]
    }
   ],
   "source": [
    "try:\n",
    "    df['Description_Embeddings'] = df['Description'].apply(lambda x: model.encode(x,show_progress_bar=True))\n",
    "    print(\"Encoded all the genre descriptions\")\n",
    "except Exception as e:\n",
    "    print(\"Faced an issue:\")\n",
    "    print(f'Error: {e}')"
   ]
  },
  {
   "cell_type": "code",
   "execution_count": 5,
   "metadata": {},
   "outputs": [],
   "source": [
    "genre_embeddings = {row['Genre']: row['Description_Embeddings'] for index, row in df.iterrows()}"
   ]
  },
  {
   "cell_type": "code",
   "execution_count": 6,
   "metadata": {},
   "outputs": [
    {
     "name": "stdout",
     "output_type": "stream",
     "text": [
      "Genre embeddings created and saved.\n"
     ]
    }
   ],
   "source": [
    "joblib.dump(genre_embeddings, 'genre_embeddings.pkl')\n",
    "print(\"Genre embeddings created and saved.\")"
   ]
  }
 ],
 "metadata": {
  "kernelspec": {
   "display_name": "Python 3",
   "language": "python",
   "name": "python3"
  },
  "language_info": {
   "codemirror_mode": {
    "name": "ipython",
    "version": 3
   },
   "file_extension": ".py",
   "mimetype": "text/x-python",
   "name": "python",
   "nbconvert_exporter": "python",
   "pygments_lexer": "ipython3",
   "version": "3.12.2"
  }
 },
 "nbformat": 4,
 "nbformat_minor": 2
}
